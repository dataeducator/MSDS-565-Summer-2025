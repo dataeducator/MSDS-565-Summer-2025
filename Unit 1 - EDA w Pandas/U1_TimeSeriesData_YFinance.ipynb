{
 "cells": [
  {
   "cell_type": "code",
   "execution_count": 31,
   "id": "e19ecc1d-15f3-4b39-ac0d-2d64ad653682",
   "metadata": {},
   "outputs": [],
   "source": [
    "import numpy as np\n",
    "import pandas as pd\n",
    "import matplotlib.pyplot as plt\n",
    "import seaborn as sns\n",
    "\n",
    "pd.set_option('display.max_columns',100)\n",
    "pd.set_option('display.max_rows',100)\n",
    "\n",
    "plt.style.use('dark_background')\n",
    "\n",
    "### IMPORT YF ###\n",
    "import yfinance as yf"
   ]
  },
  {
   "cell_type": "markdown",
   "id": "2db59b76-fd60-4a51-abf4-069a5e046dfc",
   "metadata": {},
   "source": [
    "# Pull data for one stock ticker from Yahoo Finance"
   ]
  },
  {
   "cell_type": "code",
   "execution_count": 34,
   "id": "7abaf1db-73b4-461f-8054-b9ecb757760b",
   "metadata": {},
   "outputs": [
    {
     "name": "stderr",
     "output_type": "stream",
     "text": [
      "[*********************100%***********************]  1 of 1 completed\n"
     ]
    },
    {
     "data": {
      "text/html": [
       "<div>\n",
       "<style scoped>\n",
       "    .dataframe tbody tr th:only-of-type {\n",
       "        vertical-align: middle;\n",
       "    }\n",
       "\n",
       "    .dataframe tbody tr th {\n",
       "        vertical-align: top;\n",
       "    }\n",
       "\n",
       "    .dataframe thead tr th {\n",
       "        text-align: left;\n",
       "    }\n",
       "\n",
       "    .dataframe thead tr:last-of-type th {\n",
       "        text-align: right;\n",
       "    }\n",
       "</style>\n",
       "<table border=\"1\" class=\"dataframe\">\n",
       "  <thead>\n",
       "    <tr>\n",
       "      <th>Price</th>\n",
       "      <th>Close</th>\n",
       "      <th>High</th>\n",
       "      <th>Low</th>\n",
       "      <th>Open</th>\n",
       "      <th>Volume</th>\n",
       "    </tr>\n",
       "    <tr>\n",
       "      <th>Ticker</th>\n",
       "      <th>MSTR</th>\n",
       "      <th>MSTR</th>\n",
       "      <th>MSTR</th>\n",
       "      <th>MSTR</th>\n",
       "      <th>MSTR</th>\n",
       "    </tr>\n",
       "    <tr>\n",
       "      <th>Date</th>\n",
       "      <th></th>\n",
       "      <th></th>\n",
       "      <th></th>\n",
       "      <th></th>\n",
       "      <th></th>\n",
       "    </tr>\n",
       "  </thead>\n",
       "  <tbody>\n",
       "    <tr>\n",
       "      <th>2000-01-03</th>\n",
       "      <td>104.250000</td>\n",
       "      <td>115.500000</td>\n",
       "      <td>97.90625</td>\n",
       "      <td>115.500000</td>\n",
       "      <td>535800</td>\n",
       "    </tr>\n",
       "    <tr>\n",
       "      <th>2000-01-04</th>\n",
       "      <td>98.000000</td>\n",
       "      <td>114.125000</td>\n",
       "      <td>97.87500</td>\n",
       "      <td>104.875000</td>\n",
       "      <td>874600</td>\n",
       "    </tr>\n",
       "    <tr>\n",
       "      <th>2000-01-05</th>\n",
       "      <td>104.250000</td>\n",
       "      <td>105.875000</td>\n",
       "      <td>89.78125</td>\n",
       "      <td>99.500000</td>\n",
       "      <td>613800</td>\n",
       "    </tr>\n",
       "    <tr>\n",
       "      <th>2000-01-06</th>\n",
       "      <td>100.125000</td>\n",
       "      <td>108.062500</td>\n",
       "      <td>99.50000</td>\n",
       "      <td>107.500000</td>\n",
       "      <td>456600</td>\n",
       "    </tr>\n",
       "    <tr>\n",
       "      <th>2000-01-07</th>\n",
       "      <td>105.187500</td>\n",
       "      <td>108.500000</td>\n",
       "      <td>98.62500</td>\n",
       "      <td>102.468750</td>\n",
       "      <td>563000</td>\n",
       "    </tr>\n",
       "    <tr>\n",
       "      <th>...</th>\n",
       "      <td>...</td>\n",
       "      <td>...</td>\n",
       "      <td>...</td>\n",
       "      <td>...</td>\n",
       "      <td>...</td>\n",
       "    </tr>\n",
       "    <tr>\n",
       "      <th>2025-04-17</th>\n",
       "      <td>317.200012</td>\n",
       "      <td>320.000000</td>\n",
       "      <td>306.00000</td>\n",
       "      <td>313.890015</td>\n",
       "      <td>13472100</td>\n",
       "    </tr>\n",
       "    <tr>\n",
       "      <th>2025-04-21</th>\n",
       "      <td>317.760010</td>\n",
       "      <td>330.989990</td>\n",
       "      <td>309.00000</td>\n",
       "      <td>324.989990</td>\n",
       "      <td>16053200</td>\n",
       "    </tr>\n",
       "    <tr>\n",
       "      <th>2025-04-22</th>\n",
       "      <td>343.029999</td>\n",
       "      <td>348.959991</td>\n",
       "      <td>327.01001</td>\n",
       "      <td>328.709991</td>\n",
       "      <td>24036500</td>\n",
       "    </tr>\n",
       "    <tr>\n",
       "      <th>2025-04-23</th>\n",
       "      <td>345.730011</td>\n",
       "      <td>355.829987</td>\n",
       "      <td>339.00000</td>\n",
       "      <td>354.700012</td>\n",
       "      <td>16690700</td>\n",
       "    </tr>\n",
       "    <tr>\n",
       "      <th>2025-04-24</th>\n",
       "      <td>350.339996</td>\n",
       "      <td>351.029999</td>\n",
       "      <td>343.23999</td>\n",
       "      <td>344.970001</td>\n",
       "      <td>10692800</td>\n",
       "    </tr>\n",
       "  </tbody>\n",
       "</table>\n",
       "<p>6366 rows × 5 columns</p>\n",
       "</div>"
      ],
      "text/plain": [
       "Price            Close        High        Low        Open    Volume\n",
       "Ticker            MSTR        MSTR       MSTR        MSTR      MSTR\n",
       "Date                                                               \n",
       "2000-01-03  104.250000  115.500000   97.90625  115.500000    535800\n",
       "2000-01-04   98.000000  114.125000   97.87500  104.875000    874600\n",
       "2000-01-05  104.250000  105.875000   89.78125   99.500000    613800\n",
       "2000-01-06  100.125000  108.062500   99.50000  107.500000    456600\n",
       "2000-01-07  105.187500  108.500000   98.62500  102.468750    563000\n",
       "...                ...         ...        ...         ...       ...\n",
       "2025-04-17  317.200012  320.000000  306.00000  313.890015  13472100\n",
       "2025-04-21  317.760010  330.989990  309.00000  324.989990  16053200\n",
       "2025-04-22  343.029999  348.959991  327.01001  328.709991  24036500\n",
       "2025-04-23  345.730011  355.829987  339.00000  354.700012  16690700\n",
       "2025-04-24  350.339996  351.029999  343.23999  344.970001  10692800\n",
       "\n",
       "[6366 rows x 5 columns]"
      ]
     },
     "execution_count": 34,
     "metadata": {},
     "output_type": "execute_result"
    }
   ],
   "source": [
    "ticker = \"MSTR\"\n",
    "\n",
    "start_date = \"2000-01-01\"\n",
    "df = yf.download(ticker, start=start_date)\n",
    "df"
   ]
  },
  {
   "cell_type": "markdown",
   "id": "dece84de-6694-4945-839c-03e9d3bd84e0",
   "metadata": {},
   "source": [
    "# Deal with multi-index columns"
   ]
  },
  {
   "cell_type": "code",
   "execution_count": 36,
   "id": "d22653dc-04b6-4aaf-a7be-b4f3748d4a99",
   "metadata": {},
   "outputs": [
    {
     "data": {
      "text/plain": [
       "MultiIndex([( 'Close', 'MSTR'),\n",
       "            (  'High', 'MSTR'),\n",
       "            (   'Low', 'MSTR'),\n",
       "            (  'Open', 'MSTR'),\n",
       "            ('Volume', 'MSTR')],\n",
       "           names=['Price', 'Ticker'])"
      ]
     },
     "execution_count": 36,
     "metadata": {},
     "output_type": "execute_result"
    }
   ],
   "source": [
    "df.columns"
   ]
  },
  {
   "cell_type": "code",
   "execution_count": 37,
   "id": "765df504-cbe3-441d-b793-28c8b73cc820",
   "metadata": {},
   "outputs": [
    {
     "data": {
      "text/html": [
       "<div>\n",
       "<style scoped>\n",
       "    .dataframe tbody tr th:only-of-type {\n",
       "        vertical-align: middle;\n",
       "    }\n",
       "\n",
       "    .dataframe tbody tr th {\n",
       "        vertical-align: top;\n",
       "    }\n",
       "\n",
       "    .dataframe thead th {\n",
       "        text-align: right;\n",
       "    }\n",
       "</style>\n",
       "<table border=\"1\" class=\"dataframe\">\n",
       "  <thead>\n",
       "    <tr style=\"text-align: right;\">\n",
       "      <th>Price</th>\n",
       "      <th>Close</th>\n",
       "      <th>High</th>\n",
       "      <th>Low</th>\n",
       "      <th>Open</th>\n",
       "      <th>Volume</th>\n",
       "    </tr>\n",
       "    <tr>\n",
       "      <th>Date</th>\n",
       "      <th></th>\n",
       "      <th></th>\n",
       "      <th></th>\n",
       "      <th></th>\n",
       "      <th></th>\n",
       "    </tr>\n",
       "  </thead>\n",
       "  <tbody>\n",
       "    <tr>\n",
       "      <th>2000-01-03</th>\n",
       "      <td>104.250000</td>\n",
       "      <td>115.500000</td>\n",
       "      <td>97.90625</td>\n",
       "      <td>115.500000</td>\n",
       "      <td>535800</td>\n",
       "    </tr>\n",
       "    <tr>\n",
       "      <th>2000-01-04</th>\n",
       "      <td>98.000000</td>\n",
       "      <td>114.125000</td>\n",
       "      <td>97.87500</td>\n",
       "      <td>104.875000</td>\n",
       "      <td>874600</td>\n",
       "    </tr>\n",
       "    <tr>\n",
       "      <th>2000-01-05</th>\n",
       "      <td>104.250000</td>\n",
       "      <td>105.875000</td>\n",
       "      <td>89.78125</td>\n",
       "      <td>99.500000</td>\n",
       "      <td>613800</td>\n",
       "    </tr>\n",
       "    <tr>\n",
       "      <th>2000-01-06</th>\n",
       "      <td>100.125000</td>\n",
       "      <td>108.062500</td>\n",
       "      <td>99.50000</td>\n",
       "      <td>107.500000</td>\n",
       "      <td>456600</td>\n",
       "    </tr>\n",
       "    <tr>\n",
       "      <th>2000-01-07</th>\n",
       "      <td>105.187500</td>\n",
       "      <td>108.500000</td>\n",
       "      <td>98.62500</td>\n",
       "      <td>102.468750</td>\n",
       "      <td>563000</td>\n",
       "    </tr>\n",
       "    <tr>\n",
       "      <th>...</th>\n",
       "      <td>...</td>\n",
       "      <td>...</td>\n",
       "      <td>...</td>\n",
       "      <td>...</td>\n",
       "      <td>...</td>\n",
       "    </tr>\n",
       "    <tr>\n",
       "      <th>2025-04-17</th>\n",
       "      <td>317.200012</td>\n",
       "      <td>320.000000</td>\n",
       "      <td>306.00000</td>\n",
       "      <td>313.890015</td>\n",
       "      <td>13472100</td>\n",
       "    </tr>\n",
       "    <tr>\n",
       "      <th>2025-04-21</th>\n",
       "      <td>317.760010</td>\n",
       "      <td>330.989990</td>\n",
       "      <td>309.00000</td>\n",
       "      <td>324.989990</td>\n",
       "      <td>16053200</td>\n",
       "    </tr>\n",
       "    <tr>\n",
       "      <th>2025-04-22</th>\n",
       "      <td>343.029999</td>\n",
       "      <td>348.959991</td>\n",
       "      <td>327.01001</td>\n",
       "      <td>328.709991</td>\n",
       "      <td>24036500</td>\n",
       "    </tr>\n",
       "    <tr>\n",
       "      <th>2025-04-23</th>\n",
       "      <td>345.730011</td>\n",
       "      <td>355.829987</td>\n",
       "      <td>339.00000</td>\n",
       "      <td>354.700012</td>\n",
       "      <td>16690700</td>\n",
       "    </tr>\n",
       "    <tr>\n",
       "      <th>2025-04-24</th>\n",
       "      <td>350.339996</td>\n",
       "      <td>351.029999</td>\n",
       "      <td>343.23999</td>\n",
       "      <td>344.970001</td>\n",
       "      <td>10692800</td>\n",
       "    </tr>\n",
       "  </tbody>\n",
       "</table>\n",
       "<p>6366 rows × 5 columns</p>\n",
       "</div>"
      ],
      "text/plain": [
       "Price            Close        High        Low        Open    Volume\n",
       "Date                                                               \n",
       "2000-01-03  104.250000  115.500000   97.90625  115.500000    535800\n",
       "2000-01-04   98.000000  114.125000   97.87500  104.875000    874600\n",
       "2000-01-05  104.250000  105.875000   89.78125   99.500000    613800\n",
       "2000-01-06  100.125000  108.062500   99.50000  107.500000    456600\n",
       "2000-01-07  105.187500  108.500000   98.62500  102.468750    563000\n",
       "...                ...         ...        ...         ...       ...\n",
       "2025-04-17  317.200012  320.000000  306.00000  313.890015  13472100\n",
       "2025-04-21  317.760010  330.989990  309.00000  324.989990  16053200\n",
       "2025-04-22  343.029999  348.959991  327.01001  328.709991  24036500\n",
       "2025-04-23  345.730011  355.829987  339.00000  354.700012  16690700\n",
       "2025-04-24  350.339996  351.029999  343.23999  344.970001  10692800\n",
       "\n",
       "[6366 rows x 5 columns]"
      ]
     },
     "execution_count": 37,
     "metadata": {},
     "output_type": "execute_result"
    }
   ],
   "source": [
    "# method 1\n",
    "#df.columns = df.columns.droplevel(1)\n",
    "\n",
    "# method 2 (this one is better)\n",
    "df = df.xs(ticker, axis=1, level=1)\n",
    "df"
   ]
  },
  {
   "cell_type": "markdown",
   "id": "16d23121-5c49-4835-8a5e-7063528535b2",
   "metadata": {},
   "source": [
    "# Basic plotting"
   ]
  },
  {
   "cell_type": "code",
   "execution_count": 38,
   "id": "64664b28-0d18-4ddf-ab77-9dfd7c791b5b",
   "metadata": {},
   "outputs": [
    {
     "data": {
      "text/plain": [
       "<AxesSubplot:xlabel='Date'>"
      ]
     },
     "execution_count": 38,
     "metadata": {},
     "output_type": "execute_result"
    },
    {
     "data": {
      "image/png": "[encoded data removed]",
      "text/plain": [
       "<Figure size 1296x504 with 1 Axes>"
      ]
     },
     "metadata": {},
     "output_type": "display_data"
    }
   ],
   "source": [
    "df.Close.plot(figsize=(18,7), linewidth=1, c='g')"
   ]
  },
  {
   "cell_type": "markdown",
   "id": "e7757458-79e8-4480-967d-cd40e564ec43",
   "metadata": {},
   "source": [
    "# Get returns"
   ]
  },
  {
   "cell_type": "code",
   "execution_count": 78,
   "id": "586c88bd-d0a9-4daa-b871-bfc9dcf5c85c",
   "metadata": {},
   "outputs": [
    {
     "data": {
      "text/plain": [
       "<AxesSubplot:xlabel='Date'>"
      ]
     },
     "execution_count": 78,
     "metadata": {},
     "output_type": "execute_result"
    },
    {
     "data": {
      "image/png": "[encoded data removed]",
      "text/plain": [
       "<Figure size 1296x504 with 1 Axes>"
      ]
     },
     "metadata": {},
     "output_type": "display_data"
    }
   ],
   "source": [
    "returns = df.Close.pct_change(periods=1).dropna()\n",
    "\n",
    "returns.plot(figsize=(18,7), linewidth=1, c='g')\n",
    "#returns.rolling(window=5*4*2).std().plot(c='r')"
   ]
  }
 ],
 "metadata": {
  "kernelspec": {
   "display_name": "Python 3 (ipykernel)",
   "language": "python",
   "name": "python3"
  },
  "language_info": {
   "codemirror_mode": {
    "name": "ipython",
    "version": 3
   },
   "file_extension": ".py",
   "mimetype": "text/x-python",
   "name": "python",
   "nbconvert_exporter": "python",
   "pygments_lexer": "ipython3",
   "version": "3.9.7"
  }
 },
 "nbformat": 4,
 "nbformat_minor": 5
}
